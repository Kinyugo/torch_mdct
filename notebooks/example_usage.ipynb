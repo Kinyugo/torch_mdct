{
 "cells": [
  {
   "cell_type": "markdown",
   "metadata": {},
   "source": [
    "# Example Usage"
   ]
  },
  {
   "cell_type": "markdown",
   "metadata": {},
   "source": [
    "## Setup"
   ]
  },
  {
   "cell_type": "code",
   "execution_count": 13,
   "metadata": {},
   "outputs": [],
   "source": [
    "# Uncomment to install the torch_mdct package\n",
    "# %pip install torch_mdct"
   ]
  },
  {
   "cell_type": "code",
   "execution_count": 14,
   "metadata": {},
   "outputs": [],
   "source": [
    "# Comment out the following line if you have installed the torch_mdct package\n",
    "import sys\n",
    "\n",
    "sys.path.append(\"../src\")"
   ]
  },
  {
   "cell_type": "markdown",
   "metadata": {},
   "source": [
    "## Imports"
   ]
  },
  {
   "cell_type": "code",
   "execution_count": 15,
   "metadata": {},
   "outputs": [],
   "source": [
    "import torch\n",
    "import torchaudio\n",
    "from IPython.display import Audio\n",
    "from matplotlib import pyplot as plt\n",
    "\n",
    "from torch_mdct import IMDCT, MDCT"
   ]
  },
  {
   "cell_type": "markdown",
   "metadata": {},
   "source": [
    "## Utils"
   ]
  },
  {
   "cell_type": "code",
   "execution_count": 16,
   "metadata": {},
   "outputs": [],
   "source": [
    "def plot_waveform(waveform: torch.Tensor, sample_rate: int, title: str) -> None:\n",
    "    channels, n_frames = waveform.shape\n",
    "\n",
    "    skip = int(n_frames / (0.01 * n_frames))\n",
    "    waveform = waveform[..., 0:-1:skip]\n",
    "\n",
    "    n_frames = waveform.shape[-1]\n",
    "    time_axis = torch.linspace(0, n_frames / (sample_rate / skip), steps=n_frames)\n",
    "\n",
    "    fig, axes = plt.subplots(2, max(channels // 2, 1), constrained_layout=True)\n",
    "    axes = axes.flatten()\n",
    "\n",
    "    for c in range(channels):\n",
    "        axes[c].plot(time_axis, waveform[c], linewidth=1)\n",
    "        axes[c].grid(True)\n",
    "\n",
    "        if channels > 1:\n",
    "            axes[c].set_ylabel(f\"Channel {c}\")\n",
    "\n",
    "    fig.suptitle(title)\n",
    "    plt.xlabel(\"Time (s)\")\n",
    "    plt.show(block=False)\n",
    "\n",
    "\n",
    "def plot_spectrogram(spectrogram: torch.Tensor, title: str) -> None:\n",
    "    channels = spectrogram.shape[0]\n",
    "\n",
    "    fig, axes = plt.subplots(2, max(channels // 2, 1), constrained_layout=True)\n",
    "    axes = axes.flatten()\n",
    "\n",
    "    for c in range(channels):\n",
    "        im = axes[c].imshow(\n",
    "            torch.log(spectrogram[c].abs() + 1e-5), origin=\"lower\", aspect=\"auto\"\n",
    "        )\n",
    "        fig.colorbar(im, ax=axes[c])\n",
    "\n",
    "        if channels > 1:\n",
    "            axes[c].set_ylabel(f\"Channels {c}\")\n",
    "\n",
    "    fig.suptitle(title)\n",
    "    plt.xlabel(\"Time\")\n",
    "    plt.show(block=False)\n",
    "\n",
    "\n",
    "def stats(x: torch.Tensor) -> str:\n",
    "    return f\"Shape: {tuple(x.shape)} Min: {x.min():.2f} Max: {x.max():.2f} Mean: {x.mean():.2f} Std: {x.std():.2f}\""
   ]
  },
  {
   "cell_type": "markdown",
   "metadata": {},
   "source": [
    "## DataLoading"
   ]
  },
  {
   "cell_type": "code",
   "execution_count": null,
   "metadata": {},
   "outputs": [],
   "source": [
    "waveform, sample_rate = torchaudio.load(\"audio_samples/sample.ogg\")\n",
    "Audio(waveform, rate=sample_rate)"
   ]
  },
  {
   "cell_type": "code",
   "execution_count": null,
   "metadata": {},
   "outputs": [],
   "source": [
    "plot_waveform(waveform, sample_rate, f\"Waveform: \\n({stats(waveform)})\")"
   ]
  },
  {
   "cell_type": "markdown",
   "metadata": {},
   "source": [
    "## Transforms"
   ]
  },
  {
   "cell_type": "code",
   "execution_count": 19,
   "metadata": {},
   "outputs": [],
   "source": [
    "mdct = MDCT(win_length=2048)\n",
    "imdct = IMDCT(win_length=2048)"
   ]
  },
  {
   "cell_type": "markdown",
   "metadata": {},
   "source": [
    "## MDCT Experiments"
   ]
  },
  {
   "cell_type": "code",
   "execution_count": null,
   "metadata": {},
   "outputs": [],
   "source": [
    "spectrogram = mdct(waveform)\n",
    "plot_spectrogram(spectrogram, f\"Log Absolute Spectrogram: \\n({stats(spectrogram)})\")"
   ]
  },
  {
   "cell_type": "markdown",
   "metadata": {},
   "source": [
    "## IMDCT Experiments"
   ]
  },
  {
   "cell_type": "code",
   "execution_count": null,
   "metadata": {},
   "outputs": [],
   "source": [
    "reconst_waveform = imdct(spectrogram, length=waveform.shape[-1])\n",
    "Audio(reconst_waveform, rate=sample_rate)"
   ]
  },
  {
   "cell_type": "code",
   "execution_count": null,
   "metadata": {},
   "outputs": [],
   "source": [
    "plot_waveform(\n",
    "    reconst_waveform,\n",
    "    sample_rate,\n",
    "    f\"Reconstructed Waveform: \\n({stats(reconst_waveform)})\",\n",
    ")"
   ]
  },
  {
   "cell_type": "markdown",
   "metadata": {},
   "source": [
    "## Waveform Difference"
   ]
  },
  {
   "cell_type": "code",
   "execution_count": null,
   "metadata": {},
   "outputs": [],
   "source": [
    "waveform_diff = waveform - reconst_waveform\n",
    "Audio(waveform_diff, rate=sample_rate)"
   ]
  },
  {
   "cell_type": "code",
   "execution_count": null,
   "metadata": {},
   "outputs": [],
   "source": [
    "plot_waveform(\n",
    "    waveform_diff,\n",
    "    sample_rate,\n",
    "    f\"Waveform Difference: \\n({stats(waveform_diff)})\",\n",
    ")"
   ]
  }
 ],
 "metadata": {
  "kernelspec": {
   "display_name": "torch",
   "language": "python",
   "name": "python3"
  },
  "language_info": {
   "codemirror_mode": {
    "name": "ipython",
    "version": 3
   },
   "file_extension": ".py",
   "mimetype": "text/x-python",
   "name": "python",
   "nbconvert_exporter": "python",
   "pygments_lexer": "ipython3",
   "version": "3.11.8"
  }
 },
 "nbformat": 4,
 "nbformat_minor": 2
}
